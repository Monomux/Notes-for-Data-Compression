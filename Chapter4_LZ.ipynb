{
 "cells": [
  {
   "cell_type": "markdown",
   "metadata": {},
   "source": [
    "#### LZ码\n",
    "\n",
    "将变长的输入符号串映射成定长或长度可预测的码字，按照几乎相等的出现概率安排输入符号串，从而使频繁出现符号的串将比不常出现符号的串包含更多的符号。\n",
    "\n",
    "压缩算法是自适应的，只需扫描一次数据，无需有关数据统计量的先验信息，运算时间正比于消息的长度。\n",
    "\n",
    "#### LZW算法\n",
    "\n",
    "建立转换表，若由某个字符串ω和某个单字符K所组成的字符串ωK在表中，则ω也在表中。\n",
    "\n",
    "流程\n",
    "\n",
    "初始化：将所有单字符串放入串表\n",
    "\n",
    "    读第一个输入字符 → 前缀串ω\n",
    "\n",
    "Step:读下一个输入字符串K\n",
    "\n",
    "    if 没有K(输入已穷尽):\n",
    "\n",
    "        码字(ω) → 输出；结束\n",
    "\n",
    "    if ωK已存在于串表中:\n",
    "\n",
    "        ωK → ω; Repeat Step\n",
    "\n",
    "    else ωK不在串表中:\n",
    "\n",
    "        码字(ω) → 输出\n",
    "\n",
    "        ωK → 串表;\n",
    "\n",
    "        K → ω; Repeat Step"
   ]
  },
  {
   "cell_type": "code",
   "execution_count": 1,
   "metadata": {},
   "outputs": [
    {
     "name": "stdout",
     "output_type": "stream",
     "text": [
      "maplist = [\"a\", \"b\", \"c\", \"ab\", \"ba\", \"abc\", \"cb\", \"bab\", \"baba\", \"aa\", \"aaa\", \"aaaa\"]\n",
      "cstr = \"0001001001000011010110000001101010110001\"\n"
     ]
    }
   ],
   "source": [
    "# 例，对三字母字符串做LZW编码，结果为4位码字\n",
    "str = \"ababcbababaaaaaaa\";\n",
    "maplist = [\"a\",\"b\",\"c\"];\n",
    "ω = str[1];\n",
    "cstr = \"\";\n",
    "for i in str[2:end]\n",
    "    K = i;\n",
    "    ωK = string(ω, K);\n",
    "    if ωK in maplist\n",
    "        ω = ωK;\n",
    "    else\n",
    "        cstr = string(cstr, string(findfirst(maplist .== \"$ω\"),base=2,pad=4));\n",
    "        push!(maplist, ωK);\n",
    "        ω = K;\n",
    "    end\n",
    "end\n",
    "cstr = string(cstr, string(findfirst(maplist .== \"$ω\"),base=2,pad=4));\n",
    "@show maplist;\n",
    "@show cstr;"
   ]
  },
  {
   "cell_type": "code",
   "execution_count": 37,
   "metadata": {},
   "outputs": [
    {
     "data": {
      "text/plain": [
       "true"
      ]
     },
     "execution_count": 37,
     "metadata": {},
     "output_type": "execute_result"
    }
   ],
   "source": [
    "# 在消息长度较短时，压缩效果并不好，需要消息足够长以便算法能积累足够有关符号出现频率的知识\n",
    "length(str) < length(cstr)"
   ]
  },
  {
   "cell_type": "code",
   "execution_count": 43,
   "metadata": {},
   "outputs": [
    {
     "name": "stdout",
     "output_type": "stream",
     "text": [
      "maplist = [\"a\", \"b\", \"c\", \"0001b\", \"0010a\", \"0100c\", \"0011b\", \"0101b\", \"1000a\", \"0001a\", \"1010a\", \"1011a\"]\n",
      "cstr = \"0001001001000011010110000001101010110001\"\n"
     ]
    }
   ],
   "source": [
    "# 另一种形式的字串表，以前缀标识符加扩充字符表示新字串，优点是表中新增的每一项长度相等\n",
    "str = \"ababcbababaaaaaaa\";\n",
    "maplist = [\"a\",\"b\",\"c\"];\n",
    "ω = str[1];\n",
    "cstr = \"\";\n",
    "for i in str[2:end]\n",
    "    K = i;\n",
    "    idx = string(findfirst(maplist .== \"$ω\"),base=2,pad=4);\n",
    "    ωK = \"$idx$K\";\n",
    "    if ωK in maplist\n",
    "        ω = ωK;\n",
    "    else\n",
    "        cstr = string(cstr, idx);\n",
    "        push!(maplist, ωK);\n",
    "        ω = K;\n",
    "    end\n",
    "end\n",
    "cstr = string(cstr, string(findfirst(maplist .== \"$ω\"),base=2,pad=4));\n",
    "@show maplist;\n",
    "@show cstr;"
   ]
  },
  {
   "cell_type": "markdown",
   "metadata": {},
   "source": [
    "LZW解码算法，核心在于还原编码时用的字典，参考[link](https://blog.csdn.net/hanzhen7541/article/details/91141112)\n",
    "\n",
    "流程\n",
    "\n",
    "初始化：将所有已知码字放入串表\n",
    "\n",
    "    读第一个输入码字 → p；输出字符串(p)\n",
    "\n",
    "Step:c → p\n",
    "\n",
    "    读下一个输入码字c\n",
    "\n",
    "    if 没有c(输入已穷尽):\n",
    "\n",
    "        字符串(c) → 输出；结束\n",
    "\n",
    "    if c已存在于串表中:\n",
    "\n",
    "        输出字符串(c)\n",
    "\n",
    "        字符串(p) → P; 字符串(c) → C\n",
    "\n",
    "        字典中加入P+C[1]; Repeat Step\n",
    "\n",
    "    else c不在串表中:\n",
    "\n",
    "        字符串(p) → P; 字符串(p) → C\n",
    "\n",
    "        字典中加入P+C[1]; 输出P+C[1]; Repeat Step"
   ]
  },
  {
   "cell_type": "code",
   "execution_count": 2,
   "metadata": {},
   "outputs": [
    {
     "name": "stdout",
     "output_type": "stream",
     "text": [
      "rmaplist = [\"a\", \"b\", \"c\", \"ab\", \"ba\", \"abc\", \"cb\", \"bab\", \"baba\", \"aa\", \"aaa\", \"aaaa\"]\n",
      "str2 = \"ababcbababaaaaaaa\"\n"
     ]
    }
   ],
   "source": [
    "rmaplist = [\"a\",\"b\",\"c\"];\n",
    "c = parse(Int,cstr[1:4],base=2);\n",
    "str2 = rmaplist[c];\n",
    "N = length(cstr)÷4;\n",
    "for i in 2:N\n",
    "    p = c;\n",
    "    c = parse(Int,cstr[4*i-3:4*i],base=2);\n",
    "    if c <= length(rmaplist)\n",
    "        P = rmaplist[p]; C = rmaplist[c];\n",
    "        str2 = \"$str2$C\";\n",
    "        push!(rmaplist,string(P,C[1]));\n",
    "    else\n",
    "        P = rmaplist[p]; C = P[1];\n",
    "        str2 = \"$str2$P$C\";\n",
    "        push!(rmaplist,string(P,C));\n",
    "    end\n",
    "    \n",
    "end\n",
    "@show rmaplist;\n",
    "@show str2;"
   ]
  },
  {
   "cell_type": "code",
   "execution_count": 3,
   "metadata": {},
   "outputs": [
    {
     "data": {
      "text/plain": [
       "true"
      ]
     },
     "execution_count": 3,
     "metadata": {},
     "output_type": "execute_result"
    }
   ],
   "source": [
    "isequal(str,str2)"
   ]
  }
 ],
 "metadata": {
  "kernelspec": {
   "display_name": "Julia 1.7.2",
   "language": "julia",
   "name": "julia-1.7"
  },
  "language_info": {
   "file_extension": ".jl",
   "mimetype": "application/julia",
   "name": "julia",
   "version": "1.7.2"
  },
  "orig_nbformat": 4
 },
 "nbformat": 4,
 "nbformat_minor": 2
}
