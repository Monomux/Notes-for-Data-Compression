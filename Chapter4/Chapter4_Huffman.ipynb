{
 "cells": [
  {
   "cell_type": "markdown",
   "id": "033f9beb",
   "metadata": {},
   "source": [
    "__霍夫曼编码__\n",
    "\n",
    "具体步骤为\n",
    "1. 将信源符号按出现概率减小的顺序排列；\n",
    "2. 将两个最小的概率组合相加，并继续这一步骤，始终将较高的概率分支放在上部，直到概率达到1为止；\n",
    "3. 对每对组合中的上边一个指定为1(0)，下边一个指定为0(1)；\n",
    "4. 画出由概率1处到每个信源符号概率的路径，顺序记下沿路径的1和0，所得即为该符号的霍夫曼码字。"
   ]
  },
  {
   "cell_type": "code",
   "execution_count": 134,
   "id": "b5c70a59",
   "metadata": {},
   "outputs": [
    {
     "data": {
      "text/plain": [
       "5-element Vector{Pair{NamedTuple{(:sym, :self, :left, :right), Tuple{String, Int64, Int64, Int64}}, Float64}}:\n",
       " (sym = \"a\", self = 1, left = 1, right = 1) => 0.29539835611053017\n",
       " (sym = \"e\", self = 2, left = 2, right = 2) => 0.26269597968535136\n",
       " (sym = \"c\", self = 3, left = 3, right = 3) => 0.21510870279952993\n",
       " (sym = \"d\", self = 4, left = 4, right = 4) => 0.14039752999849361\n",
       " (sym = \"b\", self = 5, left = 5, right = 5) => 0.086399431406095"
      ]
     },
     "metadata": {},
     "output_type": "display_data"
    }
   ],
   "source": [
    "using Random;\n",
    "N = 5;\n",
    "# 符号\n",
    "a = shuffle!([string('a' + i) for i in 0:N-1]);\n",
    "# 出现概率\n",
    "p = sort(abs.(randn(N)), rev=true);\n",
    "p = p/sum(p);\n",
    "# p = [0.4,0.2,0.2,0.1,0.1];\n",
    "nodes = [(sym=a[i], self=i, left=i, right=i)=>p[i] for i in 1:N]"
   ]
  },
  {
   "cell_type": "code",
   "execution_count": 144,
   "id": "a4b4a6d6",
   "metadata": {},
   "outputs": [
    {
     "data": {
      "text/plain": [
       "9-element Vector{Pair{NamedTuple{(:sym, :self, :left, :right), Tuple{String, Int64, Int64, Int64}}, Float64}}:\n",
       "     (sym = \"a\", self = 1, left = 1, right = 1) => 0.29539835611053017\n",
       "     (sym = \"e\", self = 2, left = 2, right = 2) => 0.26269597968535136\n",
       "     (sym = \"c\", self = 3, left = 3, right = 3) => 0.21510870279952993\n",
       "     (sym = \"d\", self = 4, left = 4, right = 4) => 0.14039752999849361\n",
       "     (sym = \"b\", self = 5, left = 5, right = 5) => 0.086399431406095\n",
       "    (sym = \"db\", self = 6, left = 4, right = 5) => 0.2267969614045886\n",
       "   (sym = \"dbc\", self = 7, left = 6, right = 3) => 0.44190566420411853\n",
       "    (sym = \"ae\", self = 8, left = 1, right = 2) => 0.5580943357958815\n",
       " (sym = \"aedbc\", self = 9, left = 8, right = 7) => 1.0"
      ]
     },
     "metadata": {},
     "output_type": "display_data"
    }
   ],
   "source": [
    "# 每一步总是使概率最低的两个符号构成一对\n",
    "# 一种构建方法\n",
    "function huffman_encode(lst)\n",
    "    nodetree = copy(lst);\n",
    "    nodes2 = copy(lst);\n",
    "    idx = N+1;\n",
    "    while length(nodes2)>1\n",
    "        x, y = pop!(nodes2), pop!(nodes2);\n",
    "        z = (sym=string(first(y).sym,first(x).sym),\n",
    "            self=idx, \n",
    "            left=first(y).self, \n",
    "            right=first(x).self)=>(last(x)+last(y));\n",
    "        push!(nodetree, z);\n",
    "        push!(nodes2, z);\n",
    "        sort!(nodes2, lt=(x,y)->begin \n",
    "                        if(last(x) ≈ last(y)) return first(x).self<first(y).self;\n",
    "                        else return last(x)>last(y);\n",
    "                        end\n",
    "                    end);\n",
    "        idx = idx + 1;\n",
    "    end\n",
    "    return nodetree;\n",
    "end\n",
    "nodetree = huffman_encode(nodes)"
   ]
  },
  {
   "cell_type": "code",
   "execution_count": 145,
   "id": "7403d513",
   "metadata": {},
   "outputs": [
    {
     "data": {
      "text/plain": [
       "9-element Vector{Pair{NamedTuple{(:sym, :self, :left, :right), Tuple{String, Int64, Int64, Int64}}, Float64}}:\n",
       "     (sym = \"a\", self = 1, left = 1, right = 1) => 0.29539835611053017\n",
       "     (sym = \"e\", self = 2, left = 2, right = 2) => 0.26269597968535136\n",
       "     (sym = \"c\", self = 3, left = 3, right = 3) => 0.21510870279952993\n",
       "     (sym = \"d\", self = 4, left = 4, right = 4) => 0.14039752999849361\n",
       "     (sym = \"b\", self = 5, left = 5, right = 5) => 0.086399431406095\n",
       "    (sym = \"db\", self = 6, left = 4, right = 5) => 0.2267969614045886\n",
       "   (sym = \"dbc\", self = 7, left = 6, right = 3) => 0.44190566420411853\n",
       "    (sym = \"ae\", self = 8, left = 1, right = 2) => 0.5580943357958815\n",
       " (sym = \"aedbc\", self = 9, left = 8, right = 7) => 1.0"
      ]
     },
     "metadata": {},
     "output_type": "display_data"
    }
   ],
   "source": [
    "# 另一种构建方法构建(本质上只是处理多个概率相同的符号的顺序不同)\n",
    "function huffman_encode_a(lst)\n",
    "    nodetree = copy(lst);\n",
    "    nodes2 = copy(lst);\n",
    "    idx = N+1;\n",
    "    while length(nodes2)>1\n",
    "        x, y = pop!(nodes2), pop!(nodes2);\n",
    "        z = (sym=string(first(y).sym,first(x).sym),\n",
    "            self=idx, \n",
    "            left=first(y).self, \n",
    "            right=first(x).self)=>(last(x)+last(y));\n",
    "        push!(nodetree, z);\n",
    "        push!(nodes2, z);\n",
    "        sort!(nodes2, lt=(x,y)->begin \n",
    "                    if(last(x) ≈ last(y)) return first(x).self>first(y).self;\n",
    "                    else return last(x)>last(y);\n",
    "                    end\n",
    "                end);\n",
    "        idx = idx + 1;\n",
    "    end\n",
    "    return nodetree;\n",
    "end\n",
    "nodetree2 = huffman_encode_a(nodes)"
   ]
  },
  {
   "cell_type": "code",
   "execution_count": 28,
   "id": "e5e0dc01",
   "metadata": {},
   "outputs": [
    {
     "data": {
      "text/plain": [
       "plottree (generic function with 1 method)"
      ]
     },
     "metadata": {},
     "output_type": "display_data"
    }
   ],
   "source": [
    "# 显示树结构\n",
    "using TikzGraphs, Graphs;\n",
    "function plottree(tree)\n",
    "    tr = copy(tree);\n",
    "    g = DiGraph(2*N-1);\n",
    "    while length(tr) > 1\n",
    "        t = first(pop!(tr));\n",
    "        if(t.self == t.left) \n",
    "            continue;\n",
    "        end\n",
    "        add_edge!(g, t.self, t.left);\n",
    "        add_edge!(g, t.self, t.right);\n",
    "    end\n",
    "    TikzGraphs.plot(g, map(x->first(x).sym, tree), options=\"scale=3\")\n",
    "end"
   ]
  },
  {
   "cell_type": "code",
   "execution_count": 29,
   "id": "f70090fe",
   "metadata": {},
   "outputs": [
    {
     "data": {
      "text/plain": [
       "tocode (generic function with 1 method)"
      ]
     },
     "metadata": {},
     "output_type": "display_data"
    }
   ],
   "source": [
    "# 用编码表示\n",
    "function tocode(tree)\n",
    "    tr = first.(copy(tree));\n",
    "    tr[end] = (sym=\"\", \n",
    "                self=tr[end].self, \n",
    "                left=tr[end].left, \n",
    "                right=tr[end].right);\n",
    "    for i in 1:N-1\n",
    "        x = pop!(tr);\n",
    "        tr[x.left] = (sym=string(x.sym,\"1\"),\n",
    "                        self=tr[x.left].self, \n",
    "                        left=tr[x.left].left, \n",
    "                        right=tr[x.left].right);\n",
    "        tr[x.right] = (sym=string(x.sym,\"0\"),\n",
    "                        self=tr[x.right].self, \n",
    "                        left=tr[x.right].left, \n",
    "                        right=tr[x.right].right);\n",
    "    end\n",
    "    return map((x,y)->(x=>y),a,map(x->x.sym,tr));\n",
    "end"
   ]
  },
  {
   "cell_type": "code",
   "execution_count": 126,
   "id": "60c8042d",
   "metadata": {},
   "outputs": [
    {
     "data": {
      "image/svg+xml": "<?xml version=\"1.0\" encoding=\"UTF-8\"?>\n<svg xmlns=\"http://www.w3.org/2000/svg\" xmlns:xlink=\"http://www.w3.org/1999/xlink\" width=\"224.221pt\" height=\"353.822pt\" viewBox=\"0 0 224.221 353.822\" version=\"1.1\">\n<defs>\n<g>\n<symbol overflow=\"visible\" id=\"glyph-1648647467520017-0-0\">\n<path style=\"stroke:none;\" d=\"\"/>\n</symbol>\n<symbol overflow=\"visible\" id=\"glyph-1648647467520017-0-1\">\n<path style=\"stroke:none;\" d=\"M 5.390625 -2.28125 C 5.390625 -3.546875 4.21875 -4.671875 3.078125 -4.671875 C 2.296875 -4.671875 1.734375 -4.171875 1.578125 -3.984375 L 1.90625 -3.890625 L 1.90625 -7.203125 L 0.078125 -7.0625 L 0.078125 -6.5 C 0.984375 -6.5 0.859375 -6.5625 0.859375 -6.078125 L 0.859375 0 L 1.421875 0 L 1.671875 -0.421875 C 1.671875 -0.421875 2.234375 0.109375 2.96875 0.109375 C 4.15625 0.109375 5.390625 -1 5.390625 -2.28125 Z M 4.171875 -2.296875 C 4.171875 -1.921875 4.203125 -1.421875 3.921875 -0.984375 C 3.703125 -0.671875 3.46875 -0.375 2.9375 -0.375 C 2.484375 -0.375 2.265625 -0.578125 2.03125 -0.953125 C 1.890625 -1.15625 1.9375 -1.09375 1.9375 -1.265625 L 1.9375 -3.3125 C 1.9375 -3.515625 1.890625 -3.421875 2 -3.59375 C 2.375 -4.140625 2.796875 -4.1875 3.03125 -4.1875 C 3.484375 -4.1875 3.703125 -3.96875 3.9375 -3.59375 C 4.203125 -3.1875 4.171875 -2.703125 4.171875 -2.296875 Z M 4.171875 -2.296875 \"/>\n</symbol>\n<symbol overflow=\"visible\" id=\"glyph-1648647467520017-0-2\">\n<path style=\"stroke:none;\" d=\"M 5.015625 -1.015625 L 5.015625 -1.71875 L 4.359375 -1.71875 L 4.359375 -1.015625 C 4.359375 -0.4375 4.3125 -0.515625 4.203125 -0.515625 C 3.875 -0.515625 4.03125 -0.828125 4.03125 -0.875 L 4.03125 -2.875 C 4.03125 -3.296875 3.984375 -3.78125 3.625 -4.140625 C 3.234375 -4.53125 2.59375 -4.734375 2.109375 -4.734375 C 1.296875 -4.734375 0.40625 -4.125 0.40625 -3.46875 C 0.40625 -3.171875 0.8125 -2.875 1.0625 -2.875 C 1.34375 -2.875 1.71875 -3.203125 1.71875 -3.453125 C 1.71875 -3.578125 1.46875 -4.046875 1.328125 -4.046875 C 1.421875 -4.171875 1.78125 -4.25 2.09375 -4.25 C 2.578125 -4.25 2.953125 -3.984375 2.953125 -3.09375 L 2.953125 -2.859375 C 2.640625 -2.84375 1.9375 -2.8125 1.3125 -2.515625 C 0.5625 -2.171875 0.125 -1.515625 0.125 -1.078125 C 0.125 -0.265625 1.28125 0.109375 1.90625 0.109375 C 2.578125 0.109375 3.234375 -0.421875 3.421875 -0.890625 L 3.015625 -0.890625 C 3.0625 -0.484375 3.53125 0.0625 4 0.0625 C 4.203125 0.0625 5.015625 -0.203125 5.015625 -1.015625 Z M 2.953125 -1.53125 C 2.953125 -0.578125 2.4375 -0.375 1.984375 -0.375 C 1.5 -0.375 1.28125 -0.59375 1.28125 -1.09375 C 1.28125 -1.640625 1.5 -2.328125 2.953125 -2.375 Z M 2.953125 -1.53125 \"/>\n</symbol>\n<symbol overflow=\"visible\" id=\"glyph-1648647467520017-0-3\">\n<path style=\"stroke:none;\" d=\"M 4.34375 -1.3125 C 4.34375 -1.421875 4.03125 -1.5625 4 -1.5625 C 3.921875 -1.5625 3.703125 -1.375 3.671875 -1.3125 C 3.390625 -0.390625 2.9375 -0.40625 2.578125 -0.40625 C 2.046875 -0.40625 1.359375 -0.703125 1.359375 -2.296875 C 1.359375 -3.921875 1.984375 -4.21875 2.515625 -4.21875 C 2.609375 -4.21875 3.09375 -4.25 3.234375 -4.09375 C 3.171875 -4.09375 2.90625 -3.65625 2.90625 -3.515625 C 2.90625 -3.265625 3.296875 -2.9375 3.5625 -2.9375 C 3.828125 -2.9375 4.234375 -3.234375 4.234375 -3.53125 C 4.234375 -4.203125 3.265625 -4.734375 2.5 -4.734375 C 1.25 -4.734375 0.140625 -3.515625 0.140625 -2.28125 C 0.140625 -1 1.328125 0.109375 2.484375 0.109375 C 3.8125 0.109375 4.34375 -1.21875 4.34375 -1.3125 Z M 4.34375 -1.3125 \"/>\n</symbol>\n<symbol overflow=\"visible\" id=\"glyph-1648647467520017-0-4\">\n<path style=\"stroke:none;\" d=\"M 5.453125 -0.125 L 5.453125 -0.578125 C 4.5625 -0.578125 4.671875 -0.515625 4.671875 -1 L 4.671875 -7.203125 L 2.84375 -7.0625 L 2.84375 -6.5 C 3.734375 -6.5 3.625 -6.5625 3.625 -6.078125 L 3.625 -3.921875 L 3.953125 -4.015625 C 3.671875 -4.375 3.09375 -4.671875 2.5625 -4.671875 C 1.390625 -4.671875 0.140625 -3.5625 0.140625 -2.265625 C 0.140625 -1 1.3125 0.109375 2.453125 0.109375 C 3.09375 0.109375 3.671875 -0.265625 3.921875 -0.59375 L 3.59375 -0.671875 L 3.59375 0.125 L 5.453125 -0.015625 Z M 3.59375 -1.3125 C 3.59375 -1.125 3.65625 -1.203125 3.53125 -1.03125 C 3.234375 -0.5625 2.9375 -0.375 2.5 -0.375 C 2.046875 -0.375 1.828125 -0.59375 1.59375 -0.984375 C 1.328125 -1.390625 1.359375 -1.859375 1.359375 -2.265625 C 1.359375 -2.625 1.328125 -3.140625 1.609375 -3.59375 C 1.828125 -3.890625 2.0625 -4.1875 2.609375 -4.1875 C 2.953125 -4.1875 3.234375 -4.078125 3.53125 -3.625 C 3.65625 -3.453125 3.59375 -3.53125 3.59375 -3.34375 Z M 3.59375 -1.3125 \"/>\n</symbol>\n<symbol overflow=\"visible\" id=\"glyph-1648647467520017-0-5\">\n<path style=\"stroke:none;\" d=\"M 4.34375 -1.3125 C 4.34375 -1.421875 4.0625 -1.578125 4 -1.578125 C 3.921875 -1.578125 3.703125 -1.375 3.671875 -1.296875 C 3.328125 -0.265625 2.625 -0.40625 2.53125 -0.40625 C 2.03125 -0.40625 1.78125 -0.671875 1.546875 -1.03125 C 1.25 -1.515625 1.3125 -2.078125 1.3125 -2.296875 L 3.890625 -2.296875 C 4.109375 -2.296875 4.34375 -2.4375 4.34375 -2.640625 C 4.34375 -3.625 3.59375 -4.734375 2.359375 -4.734375 C 1.203125 -4.734375 0.078125 -3.5625 0.078125 -2.328125 C 0.078125 -0.984375 1.328125 0.109375 2.46875 0.109375 C 3.6875 0.109375 4.34375 -1.125 4.34375 -1.3125 Z M 3.484375 -2.78125 L 1.3125 -2.78125 C 1.375 -4.125 2.015625 -4.25 2.359375 -4.25 C 3.375 -4.25 3.28125 -3.03125 3.28125 -2.78125 Z M 3.484375 -2.78125 \"/>\n</symbol>\n</g>\n</defs>\n<g id=\"surface1\">\n<path style=\"fill:none;stroke-width:0.3985;stroke-linecap:butt;stroke-linejoin:miter;stroke:rgb(0%,0%,0%);stroke-opacity:1;stroke-miterlimit:10;\" d=\"M 159.535 -191.174875 L 138.312344 -233.616281 \" transform=\"matrix(1,0,0,-1,6.09,91.872)\"/>\n<path style=\"fill:none;stroke-width:0.31879;stroke-linecap:round;stroke-linejoin:round;stroke:rgb(0%,0%,0%);stroke-opacity:1;stroke-miterlimit:10;\" d=\"M -1.194645 1.594394 C -1.096814 0.996896 -0.0014113 0.0988935 0.297336 -0.000691982 C 0.00208105 -0.100272 -1.096832 -0.994761 -1.194673 -1.594004 \" transform=\"matrix(-0.44717,0.89436,0.89436,0.44717,144.40311,325.48829)\"/>\n<path style=\"fill:none;stroke-width:0.3985;stroke-linecap:butt;stroke-linejoin:miter;stroke:rgb(0%,0%,0%);stroke-opacity:1;stroke-miterlimit:10;\" d=\"M 180.62875 -191.174875 L 203.687344 -237.292062 \" transform=\"matrix(1,0,0,-1,6.09,91.872)\"/>\n<path style=\"fill:none;stroke-width:0.31879;stroke-linecap:round;stroke-linejoin:round;stroke:rgb(0%,0%,0%);stroke-opacity:1;stroke-miterlimit:10;\" d=\"M -1.195143 1.594113 C -1.097302 0.99487 0.00161144 0.100381 0.300361 -0.000946041 C 0.00161323 -0.100532 -1.097284 -0.996787 -1.195114 -1.594285 \" transform=\"matrix(0.44717,0.89436,0.89436,-0.44717,209.77669,329.16454)\"/>\n<path style=\"fill:none;stroke-width:0.3985;stroke-linecap:butt;stroke-linejoin:miter;stroke:rgb(0%,0%,0%);stroke-opacity:1;stroke-miterlimit:10;\" d=\"M 117.011563 -106.135812 L 93.952969 -152.253 \" transform=\"matrix(1,0,0,-1,6.09,91.872)\"/>\n<path style=\"fill:none;stroke-width:0.31879;stroke-linecap:round;stroke-linejoin:round;stroke:rgb(0%,0%,0%);stroke-opacity:1;stroke-miterlimit:10;\" d=\"M -1.193414 1.593852 C -1.095583 0.996354 -0.000180256 0.0983518 0.298567 -0.00123372 C -0.00192909 -0.0990668 -1.095601 -0.995302 -1.193442 -1.594546 \" transform=\"matrix(-0.44717,0.89436,0.89436,0.44717,100.04477,244.12415)\"/>\n<path style=\"fill:none;stroke-width:0.3985;stroke-linecap:butt;stroke-linejoin:miter;stroke:rgb(0%,0%,0%);stroke-opacity:1;stroke-miterlimit:10;\" d=\"M 138.109219 -106.135812 L 159.327969 -148.577219 \" transform=\"matrix(1,0,0,-1,6.09,91.872)\"/>\n<path style=\"fill:none;stroke-width:0.31879;stroke-linecap:round;stroke-linejoin:round;stroke:rgb(0%,0%,0%);stroke-opacity:1;stroke-miterlimit:10;\" d=\"M -1.197466 1.594117 C -1.094384 0.996621 -0.000712024 0.100386 0.298037 -0.000941589 C -0.000710227 -0.100527 -1.094366 -0.995035 -1.197438 -1.59428 \" transform=\"matrix(0.44717,0.89436,0.89436,-0.44717,165.41835,240.44787)\"/>\n<path style=\"fill:none;stroke-width:0.3985;stroke-linecap:butt;stroke-linejoin:miter;stroke:rgb(0%,0%,0%);stroke-opacity:1;stroke-miterlimit:10;\" d=\"M 74.492031 -21.09675 L 51.433437 -67.210031 \" transform=\"matrix(1,0,0,-1,6.09,91.872)\"/>\n<path style=\"fill:none;stroke-width:0.31879;stroke-linecap:round;stroke-linejoin:round;stroke:rgb(0%,0%,0%);stroke-opacity:1;stroke-miterlimit:10;\" d=\"M -1.196006 1.593337 C -1.094682 0.997586 0.000721521 0.0995839 0.299469 -0.00000156062 C 0.000719724 -0.101329 -1.098194 -0.995817 -1.196035 -1.595061 \" transform=\"matrix(-0.44717,0.89436,0.89436,0.44717,57.52454,159.08373)\"/>\n<path style=\"fill:none;stroke-width:0.3985;stroke-linecap:butt;stroke-linejoin:miter;stroke:rgb(0%,0%,0%);stroke-opacity:1;stroke-miterlimit:10;\" d=\"M 95.589687 -21.09675 L 116.808438 -63.53425 \" transform=\"matrix(1,0,0,-1,6.09,91.872)\"/>\n<path style=\"fill:none;stroke-width:0.31879;stroke-linecap:round;stroke-linejoin:round;stroke:rgb(0%,0%,0%);stroke-opacity:1;stroke-miterlimit:10;\" d=\"M -1.195989 1.594104 C -1.096401 0.998355 0.000765575 0.100372 0.299515 -0.000954993 C 0.000767373 -0.10054 -1.09813 -0.996796 -1.19596 -1.594294 \" transform=\"matrix(0.44717,0.89436,0.89436,-0.44717,122.89817,155.40748)\"/>\n<path style=\"fill:none;stroke-width:0.3985;stroke-linecap:butt;stroke-linejoin:miter;stroke:rgb(0%,0%,0%);stroke-opacity:1;stroke-miterlimit:10;\" d=\"M 31.9725 63.946219 L 10.75375 21.504813 \" transform=\"matrix(1,0,0,-1,6.09,91.872)\"/>\n<path style=\"fill:none;stroke-width:0.31879;stroke-linecap:round;stroke-linejoin:round;stroke:rgb(0%,0%,0%);stroke-opacity:1;stroke-miterlimit:10;\" d=\"M -1.193682 1.592773 C -1.095852 0.995275 -0.000448615 0.0972728 0.298299 -0.00231271 C 0.0012967 -0.0983987 -1.09587 -0.996381 -1.195458 -1.59213 \" transform=\"matrix(-0.44717,0.89436,0.89436,0.44717,16.84249,70.36706)\"/>\n<path style=\"fill:none;stroke-width:0.3985;stroke-linecap:butt;stroke-linejoin:miter;stroke:rgb(0%,0%,0%);stroke-opacity:1;stroke-miterlimit:10;\" d=\"M 53.06625 63.946219 L 74.288906 21.504813 \" transform=\"matrix(1,0,0,-1,6.09,91.872)\"/>\n<path style=\"fill:none;stroke-width:0.31879;stroke-linecap:round;stroke-linejoin:round;stroke:rgb(0%,0%,0%);stroke-opacity:1;stroke-miterlimit:10;\" d=\"M -1.194458 1.594131 C -1.096616 0.994888 0.00229684 0.100399 0.297552 0.000818891 C -0.00119551 -0.0987666 -1.096599 -0.996769 -1.194429 -1.594267 \" transform=\"matrix(0.44717,0.89436,0.89436,-0.44717,80.37793,70.36706)\"/>\n<g style=\"fill:rgb(0%,0%,0%);fill-opacity:1;\">\n  <use xlink:href=\"#glyph-1648647467520017-0-1\" x=\"3.321\" y=\"95.274\"/>\n</g>\n<g style=\"fill:rgb(0%,0%,0%);fill-opacity:1;\">\n  <use xlink:href=\"#glyph-1648647467520017-0-2\" x=\"46.119\" y=\"179.088\"/>\n</g>\n<g style=\"fill:rgb(0%,0%,0%);fill-opacity:1;\">\n  <use xlink:href=\"#glyph-1648647467520017-0-3\" x=\"88.918\" y=\"264.127\"/>\n</g>\n<g style=\"fill:rgb(0%,0%,0%);fill-opacity:1;\">\n  <use xlink:href=\"#glyph-1648647467520017-0-4\" x=\"130.879\" y=\"350.392\"/>\n</g>\n<g style=\"fill:rgb(0%,0%,0%);fill-opacity:1;\">\n  <use xlink:href=\"#glyph-1648647467520017-0-5\" x=\"216.477\" y=\"349.166\"/>\n</g>\n<g style=\"fill:rgb(0%,0%,0%);fill-opacity:1;\">\n  <use xlink:href=\"#glyph-1648647467520017-0-4\" x=\"171.187\" y=\"265.353\"/>\n  <use xlink:href=\"#glyph-1648647467520017-0-5\" x=\"176.726228\" y=\"265.353\"/>\n</g>\n<g style=\"fill:rgb(0%,0%,0%);fill-opacity:1;\">\n  <use xlink:href=\"#glyph-1648647467520017-0-3\" x=\"126.456\" y=\"180.313\"/>\n  <use xlink:href=\"#glyph-1648647467520017-0-4\" x=\"130.879412\" y=\"180.313\"/>\n  <use xlink:href=\"#glyph-1648647467520017-0-5\" x=\"136.41864\" y=\"180.313\"/>\n</g>\n<g style=\"fill:rgb(0%,0%,0%);fill-opacity:1;\">\n  <use xlink:href=\"#glyph-1648647467520017-0-3\" x=\"81.446\" y=\"95.274\"/>\n  <use xlink:href=\"#glyph-1648647467520017-0-4\" x=\"85.869412\" y=\"95.274\"/>\n  <use xlink:href=\"#glyph-1648647467520017-0-5\" x=\"91.40864\" y=\"95.274\"/>\n  <use xlink:href=\"#glyph-1648647467520017-0-2\" x=\"95.832052\" y=\"95.274\"/>\n</g>\n<g style=\"fill:rgb(0%,0%,0%);fill-opacity:1;\">\n  <use xlink:href=\"#glyph-1648647467520017-0-3\" x=\"36.156\" y=\"10.235\"/>\n  <use xlink:href=\"#glyph-1648647467520017-0-4\" x=\"40.579412\" y=\"10.235\"/>\n  <use xlink:href=\"#glyph-1648647467520017-0-5\" x=\"46.11864\" y=\"10.235\"/>\n  <use xlink:href=\"#glyph-1648647467520017-0-2\" x=\"50.542052\" y=\"10.235\"/>\n  <use xlink:href=\"#glyph-1648647467520017-0-1\" x=\"55.523372\" y=\"10.235\"/>\n</g>\n</g>\n</svg>\n\n",
      "text/plain": [
       "TikzPictures.TikzPicture(\"\\\\graph [layered layout, ] {\\n1/\\\"b\\\" [],\\n2/\\\"a\\\" [],\\n3/\\\"c\\\" [],\\n4/\\\"d\\\" [],\\n5/\\\"e\\\" [],\\n6/\\\"de\\\" [],\\n7/\\\"cde\\\" [],\\n8/\\\"cdea\\\" [],\\n9/\\\"cdeab\\\" [],\\n;\\n6 -> [,] 4;\\n6 -> [,] 5;\\n7 -> [,] 3;\\n7 -> [,] 6;\\n8 -> [,] 2;\\n8 -> [,] 7;\\n9 -> [,] 1;\\n9 -> [,] 8;\\n};\\n\", \"scale=3\", \"\\\\usepackage{fontspec}\\n\\\\setmainfont{Latin Modern Math}\\n\\\\usetikzlibrary{arrows}\\n\\\\usetikzlibrary{graphs}\\n\\\\usetikzlibrary{graphdrawing}\\n\\n% from: https://tex.stackexchange.com/questions/453132/fresh-install-of-tl2018-no-tikz-graph-drawing-libraries-found\\n\\\\usepackage{luacode}\\n\\\\begin{luacode*}\\n\\tfunction pgf_lookup_and_require(name)\\n\\tlocal sep = package.config:sub(1,1)\\n\\tlocal function lookup(name)\\n\\tlocal sub = name:gsub('%.',sep)  \\n\\tif kpse.find_file(sub, 'lua') then\\n\\trequire(name)\\n\\telseif kpse.find_file(sub, 'clua') then\\n\\tcollectgarbage('stop') \\n\\trequire(name)\\n\\tcollectgarbage('restart')\\n\\telse\\n\\treturn false\\n\\tend\\n\\treturn true\\n\\tend\\n\\treturn\\n\\tlookup('pgf.gd.' .. name .. '.library') or\\n\\tlookup('pgf.gd.' .. name) or\\n\\tlookup(name .. '.library') or\\n\\tlookup(name) \\n\\tend\\n\\\\end{luacode*}\\n\\n\\\\usegdlibrary{layered}\", \"tikzpicture\", \"\", \"\", true, true)"
      ]
     },
     "metadata": {},
     "output_type": "display_data"
    }
   ],
   "source": [
    "plottree(nodetree)"
   ]
  },
  {
   "cell_type": "code",
   "execution_count": 129,
   "id": "557a11fb",
   "metadata": {},
   "outputs": [
    {
     "data": {
      "text/plain": [
       "5-element Vector{Pair{String, String}}:\n",
       " \"b\" => \"0\"\n",
       " \"a\" => \"10\"\n",
       " \"c\" => \"111\"\n",
       " \"d\" => \"1101\"\n",
       " \"e\" => \"1100\""
      ]
     },
     "metadata": {},
     "output_type": "display_data"
    }
   ],
   "source": [
    "dic1 = tocode(nodetree)"
   ]
  },
  {
   "cell_type": "code",
   "execution_count": 127,
   "id": "d5048316",
   "metadata": {},
   "outputs": [
    {
     "data": {
      "image/svg+xml": "<?xml version=\"1.0\" encoding=\"UTF-8\"?>\n<svg xmlns=\"http://www.w3.org/2000/svg\" xmlns:xlink=\"http://www.w3.org/1999/xlink\" width=\"309.26pt\" height=\"268.783pt\" viewBox=\"0 0 309.26 268.783\" version=\"1.1\">\n<defs>\n<g>\n<symbol overflow=\"visible\" id=\"glyph-1648647467520018-0-0\">\n<path style=\"stroke:none;\" d=\"\"/>\n</symbol>\n<symbol overflow=\"visible\" id=\"glyph-1648647467520018-0-1\">\n<path style=\"stroke:none;\" d=\"M 5.390625 -2.28125 C 5.390625 -3.546875 4.21875 -4.671875 3.078125 -4.671875 C 2.296875 -4.671875 1.734375 -4.171875 1.578125 -3.984375 L 1.90625 -3.890625 L 1.90625 -7.203125 L 0.078125 -7.0625 L 0.078125 -6.5 C 0.984375 -6.5 0.859375 -6.5625 0.859375 -6.078125 L 0.859375 0 L 1.421875 0 L 1.671875 -0.421875 C 1.671875 -0.421875 2.234375 0.109375 2.96875 0.109375 C 4.15625 0.109375 5.390625 -1 5.390625 -2.28125 Z M 4.171875 -2.296875 C 4.171875 -1.921875 4.203125 -1.421875 3.921875 -0.984375 C 3.703125 -0.671875 3.46875 -0.375 2.9375 -0.375 C 2.484375 -0.375 2.265625 -0.578125 2.03125 -0.953125 C 1.890625 -1.15625 1.9375 -1.09375 1.9375 -1.265625 L 1.9375 -3.3125 C 1.9375 -3.515625 1.890625 -3.421875 2 -3.59375 C 2.375 -4.140625 2.796875 -4.1875 3.03125 -4.1875 C 3.484375 -4.1875 3.703125 -3.96875 3.9375 -3.59375 C 4.203125 -3.1875 4.171875 -2.703125 4.171875 -2.296875 Z M 4.171875 -2.296875 \"/>\n</symbol>\n<symbol overflow=\"visible\" id=\"glyph-1648647467520018-0-2\">\n<path style=\"stroke:none;\" d=\"M 5.015625 -1.015625 L 5.015625 -1.71875 L 4.359375 -1.71875 L 4.359375 -1.015625 C 4.359375 -0.4375 4.3125 -0.515625 4.203125 -0.515625 C 3.875 -0.515625 4.03125 -0.828125 4.03125 -0.875 L 4.03125 -2.875 C 4.03125 -3.296875 3.984375 -3.78125 3.625 -4.140625 C 3.234375 -4.53125 2.59375 -4.734375 2.109375 -4.734375 C 1.296875 -4.734375 0.40625 -4.125 0.40625 -3.46875 C 0.40625 -3.171875 0.8125 -2.875 1.0625 -2.875 C 1.34375 -2.875 1.71875 -3.203125 1.71875 -3.453125 C 1.71875 -3.578125 1.46875 -4.046875 1.328125 -4.046875 C 1.421875 -4.171875 1.78125 -4.25 2.09375 -4.25 C 2.578125 -4.25 2.953125 -3.984375 2.953125 -3.09375 L 2.953125 -2.859375 C 2.640625 -2.84375 1.9375 -2.8125 1.3125 -2.515625 C 0.5625 -2.171875 0.125 -1.515625 0.125 -1.078125 C 0.125 -0.265625 1.28125 0.109375 1.90625 0.109375 C 2.578125 0.109375 3.234375 -0.421875 3.421875 -0.890625 L 3.015625 -0.890625 C 3.0625 -0.484375 3.53125 0.0625 4 0.0625 C 4.203125 0.0625 5.015625 -0.203125 5.015625 -1.015625 Z M 2.953125 -1.53125 C 2.953125 -0.578125 2.4375 -0.375 1.984375 -0.375 C 1.5 -0.375 1.28125 -0.59375 1.28125 -1.09375 C 1.28125 -1.640625 1.5 -2.328125 2.953125 -2.375 Z M 2.953125 -1.53125 \"/>\n</symbol>\n<symbol overflow=\"visible\" id=\"glyph-1648647467520018-0-3\">\n<path style=\"stroke:none;\" d=\"M 4.34375 -1.3125 C 4.34375 -1.421875 4.03125 -1.5625 4 -1.5625 C 3.921875 -1.5625 3.703125 -1.375 3.671875 -1.3125 C 3.390625 -0.390625 2.9375 -0.40625 2.578125 -0.40625 C 2.046875 -0.40625 1.359375 -0.703125 1.359375 -2.296875 C 1.359375 -3.921875 1.984375 -4.21875 2.515625 -4.21875 C 2.609375 -4.21875 3.09375 -4.25 3.234375 -4.09375 C 3.171875 -4.09375 2.90625 -3.65625 2.90625 -3.515625 C 2.90625 -3.265625 3.296875 -2.9375 3.5625 -2.9375 C 3.828125 -2.9375 4.234375 -3.234375 4.234375 -3.53125 C 4.234375 -4.203125 3.265625 -4.734375 2.5 -4.734375 C 1.25 -4.734375 0.140625 -3.515625 0.140625 -2.28125 C 0.140625 -1 1.328125 0.109375 2.484375 0.109375 C 3.8125 0.109375 4.34375 -1.21875 4.34375 -1.3125 Z M 4.34375 -1.3125 \"/>\n</symbol>\n<symbol overflow=\"visible\" id=\"glyph-1648647467520018-0-4\">\n<path style=\"stroke:none;\" d=\"M 5.453125 -0.125 L 5.453125 -0.578125 C 4.5625 -0.578125 4.671875 -0.515625 4.671875 -1 L 4.671875 -7.203125 L 2.84375 -7.0625 L 2.84375 -6.5 C 3.734375 -6.5 3.625 -6.5625 3.625 -6.078125 L 3.625 -3.921875 L 3.953125 -4.015625 C 3.671875 -4.375 3.09375 -4.671875 2.5625 -4.671875 C 1.390625 -4.671875 0.140625 -3.5625 0.140625 -2.265625 C 0.140625 -1 1.3125 0.109375 2.453125 0.109375 C 3.09375 0.109375 3.671875 -0.265625 3.921875 -0.59375 L 3.59375 -0.671875 L 3.59375 0.125 L 5.453125 -0.015625 Z M 3.59375 -1.3125 C 3.59375 -1.125 3.65625 -1.203125 3.53125 -1.03125 C 3.234375 -0.5625 2.9375 -0.375 2.5 -0.375 C 2.046875 -0.375 1.828125 -0.59375 1.59375 -0.984375 C 1.328125 -1.390625 1.359375 -1.859375 1.359375 -2.265625 C 1.359375 -2.625 1.328125 -3.140625 1.609375 -3.59375 C 1.828125 -3.890625 2.0625 -4.1875 2.609375 -4.1875 C 2.953125 -4.1875 3.234375 -4.078125 3.53125 -3.625 C 3.65625 -3.453125 3.59375 -3.53125 3.59375 -3.34375 Z M 3.59375 -1.3125 \"/>\n</symbol>\n<symbol overflow=\"visible\" id=\"glyph-1648647467520018-0-5\">\n<path style=\"stroke:none;\" d=\"M 4.34375 -1.3125 C 4.34375 -1.421875 4.0625 -1.578125 4 -1.578125 C 3.921875 -1.578125 3.703125 -1.375 3.671875 -1.296875 C 3.328125 -0.265625 2.625 -0.40625 2.53125 -0.40625 C 2.03125 -0.40625 1.78125 -0.671875 1.546875 -1.03125 C 1.25 -1.515625 1.3125 -2.078125 1.3125 -2.296875 L 3.890625 -2.296875 C 4.109375 -2.296875 4.34375 -2.4375 4.34375 -2.640625 C 4.34375 -3.625 3.59375 -4.734375 2.359375 -4.734375 C 1.203125 -4.734375 0.078125 -3.5625 0.078125 -2.328125 C 0.078125 -0.984375 1.328125 0.109375 2.46875 0.109375 C 3.6875 0.109375 4.34375 -1.125 4.34375 -1.3125 Z M 3.484375 -2.78125 L 1.3125 -2.78125 C 1.375 -4.125 2.015625 -4.25 2.359375 -4.25 C 3.375 -4.25 3.28125 -3.03125 3.28125 -2.78125 Z M 3.484375 -2.78125 \"/>\n</symbol>\n</g>\n</defs>\n<g id=\"surface1\">\n<path style=\"fill:none;stroke-width:0.3985;stroke-linecap:butt;stroke-linejoin:miter;stroke:rgb(0%,0%,0%);stroke-opacity:1;stroke-miterlimit:10;\" d=\"M 244.574063 -21.096813 L 223.355313 -63.534313 \" transform=\"matrix(1,0,0,-1,6.09,176.911)\"/>\n<path style=\"fill:none;stroke-width:0.31879;stroke-linecap:round;stroke-linejoin:round;stroke:rgb(0%,0%,0%);stroke-opacity:1;stroke-miterlimit:10;\" d=\"M -1.195088 1.592688 C -1.097257 0.99519 0.00164005 0.0989349 0.300388 -0.000650639 C -0.00010878 -0.0984837 -1.097275 -0.996466 -1.195116 -1.59571 \" transform=\"matrix(-0.44717,0.89436,0.89436,0.44717,229.4435,240.44648)\"/>\n<path style=\"fill:none;stroke-width:0.3985;stroke-linecap:butt;stroke-linejoin:miter;stroke:rgb(0%,0%,0%);stroke-opacity:1;stroke-miterlimit:10;\" d=\"M 265.667813 -21.096813 L 288.726406 -67.210094 \" transform=\"matrix(1,0,0,-1,6.09,176.911)\"/>\n<path style=\"fill:none;stroke-width:0.31879;stroke-linecap:round;stroke-linejoin:round;stroke:rgb(0%,0%,0%);stroke-opacity:1;stroke-miterlimit:10;\" d=\"M -1.196796 1.593399 C -1.097207 0.99765 -0.0000411439 0.0996672 0.298708 -0.00165998 C -0.0000393468 -0.101245 -1.093695 -0.995754 -1.196767 -1.594999 \" transform=\"matrix(0.44717,0.89436,0.89436,-0.44717,294.81713,244.12273)\"/>\n<path style=\"fill:none;stroke-width:0.3985;stroke-linecap:butt;stroke-linejoin:miter;stroke:rgb(0%,0%,0%);stroke-opacity:1;stroke-miterlimit:10;\" d=\"M 118.851406 67.621937 L 93.952969 17.828969 \" transform=\"matrix(1,0,0,-1,6.09,176.911)\"/>\n<path style=\"fill:none;stroke-width:0.31879;stroke-linecap:round;stroke-linejoin:round;stroke:rgb(0%,0%,0%);stroke-opacity:1;stroke-miterlimit:10;\" d=\"M -1.194423 1.593347 C -1.096593 0.995849 -0.00118993 0.097847 0.297558 -0.00173855 C 0.000555391 -0.0978246 -1.096611 -0.995807 -1.194452 -1.59505 \" transform=\"matrix(-0.44717,0.89436,0.89436,0.44717,100.04477,159.08231)\"/>\n<path style=\"fill:none;stroke-width:0.3985;stroke-linecap:butt;stroke-linejoin:miter;stroke:rgb(0%,0%,0%);stroke-opacity:1;stroke-miterlimit:10;\" d=\"M 136.269375 67.621937 L 161.167813 17.828969 \" transform=\"matrix(1,0,0,-1,6.09,176.911)\"/>\n<path style=\"fill:none;stroke-width:0.31879;stroke-linecap:round;stroke-linejoin:round;stroke:rgb(0%,0%,0%);stroke-opacity:1;stroke-miterlimit:10;\" d=\"M -1.194671 1.594613 C -1.096829 0.99537 0.000336802 0.0973874 0.297339 0.00130136 C -0.00140851 -0.0982841 -1.096812 -0.996286 -1.194642 -1.593784 \" transform=\"matrix(0.44717,0.89436,0.89436,-0.44717,167.2565,159.08231)\"/>\n<path style=\"fill:none;stroke-width:0.3985;stroke-linecap:butt;stroke-linejoin:miter;stroke:rgb(0%,0%,0%);stroke-opacity:1;stroke-miterlimit:10;\" d=\"M 31.9725 63.946156 L 10.75375 21.50475 \" transform=\"matrix(1,0,0,-1,6.09,176.911)\"/>\n<path style=\"fill:none;stroke-width:0.31879;stroke-linecap:round;stroke-linejoin:round;stroke:rgb(0%,0%,0%);stroke-opacity:1;stroke-miterlimit:10;\" d=\"M -1.193626 1.592801 C -1.095796 0.995303 -0.000392709 0.0973007 0.298355 -0.00228476 C 0.00135261 -0.0983708 -1.095814 -0.996354 -1.195402 -1.592103 \" transform=\"matrix(-0.44717,0.89436,0.89436,0.44717,16.84249,155.40606)\"/>\n<path style=\"fill:none;stroke-width:0.3985;stroke-linecap:butt;stroke-linejoin:miter;stroke:rgb(0%,0%,0%);stroke-opacity:1;stroke-miterlimit:10;\" d=\"M 76.331875 71.516469 L 229.19125 10.371937 \" transform=\"matrix(1,0,0,-1,6.09,176.911)\"/>\n<path style=\"fill:none;stroke-width:0.31879;stroke-linecap:round;stroke-linejoin:round;stroke:rgb(0%,0%,0%);stroke-opacity:1;stroke-miterlimit:10;\" d=\"M -1.193494 1.592946 C -1.097744 0.995939 0.000510785 0.101511 0.2972 0.00140412 C 0.00123506 -0.100151 -1.095579 -0.997468 -1.194237 -1.592297 \" transform=\"matrix(0.92844,0.37137,0.37137,-0.92844,235.28214,166.53937)\"/>\n<path style=\"fill:none;stroke-width:0.3985;stroke-linecap:butt;stroke-linejoin:miter;stroke:rgb(0%,0%,0%);stroke-opacity:1;stroke-miterlimit:10;\" d=\"M 95.589687 148.985219 L 118.644375 102.868031 \" transform=\"matrix(1,0,0,-1,6.09,176.911)\"/>\n<path style=\"fill:none;stroke-width:0.31879;stroke-linecap:round;stroke-linejoin:round;stroke:rgb(0%,0%,0%);stroke-opacity:1;stroke-miterlimit:10;\" d=\"M -1.193126 1.594622 C -1.095285 0.995379 -0.00161266 0.0991434 0.298884 0.00131032 C 0.000136172 -0.0982752 -1.095267 -0.996278 -1.196591 -1.592028 \" transform=\"matrix(0.44717,0.89436,0.89436,-0.44717,124.73627,74.04187)\"/>\n<path style=\"fill:none;stroke-width:0.3985;stroke-linecap:butt;stroke-linejoin:miter;stroke:rgb(0%,0%,0%);stroke-opacity:1;stroke-miterlimit:10;\" d=\"M 74.492031 148.985219 L 53.273281 106.543812 \" transform=\"matrix(1,0,0,-1,6.09,176.911)\"/>\n<path style=\"fill:none;stroke-width:0.31879;stroke-linecap:round;stroke-linejoin:round;stroke:rgb(0%,0%,0%);stroke-opacity:1;stroke-miterlimit:10;\" d=\"M -1.197363 1.594575 C -1.094291 0.99533 -0.00063531 0.100822 0.298112 0.00123621 C -0.000637107 -0.100091 -1.094309 -0.996327 -1.197391 -1.593823 \" transform=\"matrix(-0.44717,0.89436,0.89436,0.44717,59.36267,70.36564)\"/>\n<g style=\"fill:rgb(0%,0%,0%);fill-opacity:1;\">\n  <use xlink:href=\"#glyph-1648647467520018-0-1\" x=\"3.321\" y=\"180.314\"/>\n</g>\n<g style=\"fill:rgb(0%,0%,0%);fill-opacity:1;\">\n  <use xlink:href=\"#glyph-1648647467520018-0-2\" x=\"88.639\" y=\"179.088\"/>\n</g>\n<g style=\"fill:rgb(0%,0%,0%);fill-opacity:1;\">\n  <use xlink:href=\"#glyph-1648647467520018-0-3\" x=\"173.957\" y=\"179.088\"/>\n</g>\n<g style=\"fill:rgb(0%,0%,0%);fill-opacity:1;\">\n  <use xlink:href=\"#glyph-1648647467520018-0-4\" x=\"215.919\" y=\"265.353\"/>\n</g>\n<g style=\"fill:rgb(0%,0%,0%);fill-opacity:1;\">\n  <use xlink:href=\"#glyph-1648647467520018-0-5\" x=\"301.516\" y=\"264.127\"/>\n</g>\n<g style=\"fill:rgb(0%,0%,0%);fill-opacity:1;\">\n  <use xlink:href=\"#glyph-1648647467520018-0-4\" x=\"256.227\" y=\"180.314\"/>\n  <use xlink:href=\"#glyph-1648647467520018-0-5\" x=\"261.766228\" y=\"180.314\"/>\n</g>\n<g style=\"fill:rgb(0%,0%,0%);fill-opacity:1;\">\n  <use xlink:href=\"#glyph-1648647467520018-0-3\" x=\"128.947\" y=\"94.049\"/>\n  <use xlink:href=\"#glyph-1648647467520018-0-2\" x=\"133.370412\" y=\"94.049\"/>\n</g>\n<g style=\"fill:rgb(0%,0%,0%);fill-opacity:1;\">\n  <use xlink:href=\"#glyph-1648647467520018-0-1\" x=\"40.859\" y=\"95.274\"/>\n  <use xlink:href=\"#glyph-1648647467520018-0-4\" x=\"46.398228\" y=\"95.274\"/>\n  <use xlink:href=\"#glyph-1648647467520018-0-5\" x=\"51.937456\" y=\"95.274\"/>\n</g>\n<g style=\"fill:rgb(0%,0%,0%);fill-opacity:1;\">\n  <use xlink:href=\"#glyph-1648647467520018-0-1\" x=\"78.676\" y=\"10.235\"/>\n  <use xlink:href=\"#glyph-1648647467520018-0-4\" x=\"84.215228\" y=\"10.235\"/>\n  <use xlink:href=\"#glyph-1648647467520018-0-5\" x=\"89.754456\" y=\"10.235\"/>\n  <use xlink:href=\"#glyph-1648647467520018-0-3\" x=\"94.177868\" y=\"10.235\"/>\n  <use xlink:href=\"#glyph-1648647467520018-0-2\" x=\"98.60128\" y=\"10.235\"/>\n</g>\n</g>\n</svg>\n\n",
      "text/plain": [
       "TikzPictures.TikzPicture(\"\\\\graph [layered layout, ] {\\n1/\\\"b\\\" [],\\n2/\\\"a\\\" [],\\n3/\\\"c\\\" [],\\n4/\\\"d\\\" [],\\n5/\\\"e\\\" [],\\n6/\\\"de\\\" [],\\n7/\\\"ca\\\" [],\\n8/\\\"bde\\\" [],\\n9/\\\"bdeca\\\" [],\\n;\\n6 -> [,] 4;\\n6 -> [,] 5;\\n7 -> [,] 2;\\n7 -> [,] 3;\\n8 -> [,] 1;\\n8 -> [,] 6;\\n9 -> [,] 7;\\n9 -> [,] 8;\\n};\\n\", \"scale=3\", \"\\\\usepackage{fontspec}\\n\\\\setmainfont{Latin Modern Math}\\n\\\\usetikzlibrary{arrows}\\n\\\\usetikzlibrary{graphs}\\n\\\\usetikzlibrary{graphdrawing}\\n\\n% from: https://tex.stackexchange.com/questions/453132/fresh-install-of-tl2018-no-tikz-graph-drawing-libraries-found\\n\\\\usepackage{luacode}\\n\\\\begin{luacode*}\\n\\tfunction pgf_lookup_and_require(name)\\n\\tlocal sep = package.config:sub(1,1)\\n\\tlocal function lookup(name)\\n\\tlocal sub = name:gsub('%.',sep)  \\n\\tif kpse.find_file(sub, 'lua') then\\n\\trequire(name)\\n\\telseif kpse.find_file(sub, 'clua') then\\n\\tcollectgarbage('stop') \\n\\trequire(name)\\n\\tcollectgarbage('restart')\\n\\telse\\n\\treturn false\\n\\tend\\n\\treturn true\\n\\tend\\n\\treturn\\n\\tlookup('pgf.gd.' .. name .. '.library') or\\n\\tlookup('pgf.gd.' .. name) or\\n\\tlookup(name .. '.library') or\\n\\tlookup(name) \\n\\tend\\n\\\\end{luacode*}\\n\\n\\\\usegdlibrary{layered}\", \"tikzpicture\", \"\", \"\", true, true)"
      ]
     },
     "metadata": {},
     "output_type": "display_data"
    }
   ],
   "source": [
    "plottree(nodetree2)"
   ]
  },
  {
   "cell_type": "code",
   "execution_count": 128,
   "id": "63d8cd47",
   "metadata": {},
   "outputs": [
    {
     "data": {
      "text/plain": [
       "5-element Vector{Pair{String, String}}:\n",
       " \"b\" => \"11\"\n",
       " \"a\" => \"00\"\n",
       " \"c\" => \"01\"\n",
       " \"d\" => \"101\"\n",
       " \"e\" => \"100\""
      ]
     },
     "metadata": {},
     "output_type": "display_data"
    }
   ],
   "source": [
    "dic2 = tocode(nodetree2)"
   ]
  },
  {
   "cell_type": "code",
   "execution_count": 130,
   "id": "0b71484d",
   "metadata": {},
   "outputs": [
    {
     "name": "stdout",
     "output_type": "stream",
     "text": [
      "true\n",
      "1.3599999999999999\n",
      "0.16\n"
     ]
    }
   ],
   "source": [
    "# 比较两种编码方式的性能\n",
    "code1 = last.(dic1);\n",
    "code2 = last.(dic2);\n",
    "# 平均字长\n",
    "len1 = sum(map((x,y)->length(x)*y, code1, p))\n",
    "len2 = sum(map((x,y)->length(x)*y, code2, p))\n",
    "println(len1 == len2)\n",
    "# 同为Huffman编码，效果相同\n",
    "# 平均码长方差\n",
    "σ1 = sum(map((c,p)->p*(length(c)-len1)^2, code1, p))\n",
    "σ2 = sum(map((c,p)->p*(length(c)-len2)^2, code2, p))\n",
    "println(σ1, \"\\n\", σ2)\n",
    "# 相比之下，方差小的码更紧凑，码的变化小"
   ]
  },
  {
   "cell_type": "code",
   "execution_count": 12,
   "id": "df945b9c-af69-4e25-93fa-19159bf9adc2",
   "metadata": {},
   "outputs": [
    {
     "data": {
      "text/plain": [
       "huffman_coding (generic function with 1 method)"
      ]
     },
     "metadata": {},
     "output_type": "display_data"
    }
   ],
   "source": [
    "# BeautifulAlgorithm.jl给出的实现\n",
    "function huffman_coding(C::Vector{Char}, F::Vector{<:Real})\n",
    "    N = Dict{Any,Any}(Pair.(C, F))\n",
    "    while length(N) > 1\n",
    "        X = findmin(N)\n",
    "        delete!(N, last(X))\n",
    "        Y = findmin(N)\n",
    "        delete!(N, last(Y))\n",
    "        children = (left=last(X), right=last(Y))\n",
    "        Z = Pair(children, first(X) + first(Y))\n",
    "        push!(N, Z)\n",
    "    end\n",
    "    return first(first(N))\n",
    "end"
   ]
  },
  {
   "cell_type": "code",
   "execution_count": 13,
   "id": "4cc41a0e",
   "metadata": {},
   "outputs": [
    {
     "data": {
      "text/plain": [
       "(left = 'b', right = (left = (left = 'd', right = 'c'), right = (left = 'a', right = 'e')))"
      ]
     },
     "metadata": {},
     "output_type": "display_data"
    }
   ],
   "source": [
    "huffman_coding(shuffle!([Char('a' + i) for i in 0:N-1]),p)"
   ]
  },
  {
   "cell_type": "markdown",
   "id": "c964522b",
   "metadata": {},
   "source": [
    "仅当信源符号出现概率为pj=2^-k时,霍夫曼编码的效率才能达到100%,为了更有效地编码,可以合并信源信号"
   ]
  },
  {
   "cell_type": "code",
   "execution_count": 137,
   "id": "2a42a9c5",
   "metadata": {},
   "outputs": [
    {
     "name": "stdout",
     "output_type": "stream",
     "text": [
      "0.6640923908445882\n",
      "0.301860177656631\n",
      "0.301860177656631\n"
     ]
    }
   ],
   "source": [
    "# 信息熵\n",
    "H(p) = sum(map(x->-x*log10(x),p));\n",
    "h = H(p);\n",
    "println(h)\n",
    "# 编码效率\n",
    "println(h/len1, \"\\n\", h/len2);"
   ]
  },
  {
   "cell_type": "code",
   "execution_count": 179,
   "id": "ad245731",
   "metadata": {},
   "outputs": [
    {
     "data": {
      "text/plain": [
       "4-element Vector{Any}:\n",
       " (sym = \"aa\", self = 1, left = 1, right = 1) => 0.6633801440136203\n",
       " (sym = \"ab\", self = 2, left = 2, right = 2) => 0.15110137450820613\n",
       " (sym = \"ba\", self = 3, left = 3, right = 3) => 0.15110137450820613\n",
       " (sym = \"bb\", self = 4, left = 4, right = 4) => 0.03441710696996742"
      ]
     },
     "metadata": {},
     "output_type": "display_data"
    }
   ],
   "source": [
    "# 当一个编码对应k个符号\n",
    "using Combinatorics;\n",
    "function combinesym(lst, K)\n",
    "    n = length(lst);\n",
    "    idx = 1;\n",
    "    nodes3 = [];\n",
    "    combinearray = [];\n",
    "    for i in 1:n\n",
    "        for j in 1:n\n",
    "            push!(combinearray, [i,j]);\n",
    "        end\n",
    "    end\n",
    "    for i in combinearray\n",
    "        sym = \"\";\n",
    "        px = 1;\n",
    "        for j in i\n",
    "            sym = string(sym, first(lst[j]).sym);\n",
    "            px = px * last(lst[j]);\n",
    "        end\n",
    "        push!(nodes3, (sym=sym, self=idx, left=idx, right=idx)=>px);\n",
    "        idx = idx + 1;\n",
    "    end\n",
    "    return nodes3;\n",
    "end\n",
    "a2 = [\"a\", \"b\"];\n",
    "p2 = sort(abs.(randn(2)), rev=true);\n",
    "p2 = p2/sum(p2);\n",
    "nodes3 = combinesym([(sym=a2[i], self=i, left=i, right=i)=>p2[i] for i in 1:2], 2)"
   ]
  },
  {
   "cell_type": "code",
   "execution_count": 191,
   "id": "e7ed2e10",
   "metadata": {},
   "outputs": [
    {
     "data": {
      "text/plain": [
       "0.35576421463300295"
      ]
     },
     "metadata": {},
     "output_type": "display_data"
    }
   ],
   "source": [
    "tree3 = huffman_encode(nodes3)\n",
    "code3 = map(x->x.sym,first.(tree3));\n",
    "p3 = last.(tree3);\n",
    "len3 = sum(map((x,y)->length(x)*y, code3[1:4], p3[1:4]))\n",
    "# 编码效率\n",
    "H(p3)/len3"
   ]
  }
 ],
 "metadata": {
  "interpreter": {
   "hash": "7cef3594c2de06f0184c640727100ea15778a8d3214a3a411d7c242257aa0c51"
  },
  "kernelspec": {
   "display_name": "Julia 1.7.2",
   "language": "julia",
   "name": "julia-1.7"
  },
  "language_info": {
   "file_extension": ".jl",
   "mimetype": "application/julia",
   "name": "julia",
   "version": "1.7.2"
  }
 },
 "nbformat": 4,
 "nbformat_minor": 5
}
